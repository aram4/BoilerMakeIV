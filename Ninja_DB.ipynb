{
 "cells": [
  {
   "cell_type": "code",
   "execution_count": 1,
   "metadata": {
    "collapsed": true
   },
   "outputs": [],
   "source": [
    "import pymongo"
   ]
  },
  {
   "cell_type": "code",
   "execution_count": 2,
   "metadata": {
    "collapsed": true
   },
   "outputs": [],
   "source": [
    "from pymongo import MongoClient\n",
    "client = MongoClient()"
   ]
  },
  {
   "cell_type": "code",
   "execution_count": 3,
   "metadata": {
    "collapsed": true
   },
   "outputs": [],
   "source": [
    "client = MongoClient('mongodb://localhost:27017/')"
   ]
  },
  {
   "cell_type": "code",
   "execution_count": 4,
   "metadata": {
    "collapsed": true
   },
   "outputs": [],
   "source": [
    "db = client.test_database"
   ]
  },
  {
   "cell_type": "code",
   "execution_count": 5,
   "metadata": {
    "collapsed": true
   },
   "outputs": [],
   "source": [
    "collection = db.test_collection"
   ]
  },
  {
   "cell_type": "code",
   "execution_count": 6,
   "metadata": {
    "collapsed": true
   },
   "outputs": [],
   "source": [
    "posts = db.posts"
   ]
  },
  {
   "cell_type": "code",
   "execution_count": 7,
   "metadata": {
    "collapsed": false
   },
   "outputs": [],
   "source": [
    "post = [{\"item\": \"Coconut Milk\",\"section\": \"Canned & Packaged Foods\", \"X\":4, \"Y\":1 ,\"Aisle\":\"A\",\"Shelf\":\"1\"},\n",
    "        {\"item\": \"Baguette/French Bread\",\"section\": \"Bakery, Breakfast, Cereal\", \"X\":2, \"Y\":2 ,\"Aisle\":\"B\",\"Shelf\":\"3\"},\n",
    "        {\"item\": \"Frozen Fruit\",\"section\": \"Frozen Foods\", \"X\":3, \"Y\":3 ,\"Aisle\":\"C\",\"Shelf\":\"1\"},\n",
    "        {\"item\": \"Produce\",\"section\": \"Apples, Gala, bag\", \"X\":3, \"Y\":4 ,\"Aisle\":\"D\",\"Shelf\":\"2\"},\n",
    "        {\"item\": \"Beef Stew Meat\",\"section\": \"Refrigerated Foods\", \"X\":2, \"Y\":5 ,\"Aisle\":\"E\",\"Shelf\":\"1\"},\n",
    "        {\"item\": \"Aluminum Foil\",\"section\": \"Miscellaneous Kitchen Items\", \"X\":4, \"Y\":6 ,\"Aisle\":\"E\",\"Shelf\":\"1\"},\n",
    "        {\"item\": \"Milk\",\"section\": \"Beverages\", \"X\":4, \"Y\":7 ,\"Aisle\":\"F\",\"Shelf\":\"2\"},\n",
    "        {\"item\": \"Yellow Mustard\",\"section\": \"Canned & Packaged Foods\", \"X\":3, \"Y\":1 ,\"Aisle\":\"A\",\"Shelf\":\"2\"},\n",
    "        {\"item\": \"Salad Dressing\",\"section\": \"Canned & Packaged Foods\", \"X\":2, \"Y\":1 ,\"Aisle\":\"A\",\"Shelf\":\"1\"},\n",
    "        {\"item\": \"White Bread/Toast, enriched\",\"section\": \"Bakery, Breakfast, Cereal\", \"X\":3, \"Y\":2 ,\"Aisle\":\"B\",\"Shelf\":\"2\"}]"
   ]
  },
  {
   "cell_type": "code",
   "execution_count": 8,
   "metadata": {
    "collapsed": true
   },
   "outputs": [],
   "source": [
    "result= posts.insert_many(post)"
   ]
  },
  {
   "cell_type": "code",
   "execution_count": 9,
   "metadata": {
    "collapsed": true
   },
   "outputs": [],
   "source": [
    "import pprint"
   ]
  },
  {
   "cell_type": "code",
   "execution_count": 10,
   "metadata": {
    "collapsed": false
   },
   "outputs": [
    {
     "name": "stdout",
     "output_type": "stream",
     "text": [
      "{'Aisle': 'A',\n",
      " 'Shelf': '2',\n",
      " 'X': 3,\n",
      " 'Y': 1,\n",
      " '_id': ObjectId('5883175586530024fc734b05'),\n",
      " 'item': 'Yellow Mustard',\n",
      " 'section': 'Canned & Packaged Foods'}\n"
     ]
    }
   ],
   "source": [
    "pprint.pprint(posts.find_one({\"item\": \"Yellow Mustard\"}))"
   ]
  },
  {
   "cell_type": "code",
   "execution_count": null,
   "metadata": {
    "collapsed": true
   },
   "outputs": [],
   "source": []
  },
  {
   "cell_type": "code",
   "execution_count": null,
   "metadata": {
    "collapsed": true
   },
   "outputs": [],
   "source": []
  }
 ],
 "metadata": {
  "anaconda-cloud": {},
  "kernelspec": {
   "display_name": "Python [default]",
   "language": "python",
   "name": "python3"
  },
  "language_info": {
   "codemirror_mode": {
    "name": "ipython",
    "version": 3
   },
   "file_extension": ".py",
   "mimetype": "text/x-python",
   "name": "python",
   "nbconvert_exporter": "python",
   "pygments_lexer": "ipython3",
   "version": "3.5.2"
  }
 },
 "nbformat": 4,
 "nbformat_minor": 1
}
